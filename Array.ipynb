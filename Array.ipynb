{
  "nbformat": 4,
  "nbformat_minor": 0,
  "metadata": {
    "colab": {
      "provenance": []
    },
    "kernelspec": {
      "name": "python3",
      "display_name": "Python 3"
    },
    "language_info": {
      "name": "python"
    }
  },
  "cells": [
    {
      "cell_type": "code",
      "execution_count": 1,
      "metadata": {
        "colab": {
          "base_uri": "https://localhost:8080/"
        },
        "id": "cH-_ObrWXH2w",
        "outputId": "9117224a-921d-45c7-efab-10cbc65f25e0"
      },
      "outputs": [
        {
          "output_type": "stream",
          "name": "stdout",
          "text": [
            "The new created array is :  1 2 3 \r\n",
            "The appended array is : 1 2 3 4 \r\n",
            "The array after insertion is : 1 2 5 3 4 "
          ]
        }
      ],
      "source": [
        "# Python code to demonstrate the working of\n",
        "# array(), append(), insert()\n",
        "\n",
        "# importing \"array\" for array operations\n",
        "import array\n",
        "\n",
        "# initializing array with array values\n",
        "# initializes array with signed integers\n",
        "arr = array.array('i', [1, 2, 3])\n",
        "\n",
        "# printing original array\n",
        "print (\"The new created array is : \",end=\" \")\n",
        "for i in range (0, 3):\n",
        "\tprint (arr[i], end=\" \")\n",
        "\n",
        "print(\"\\r\")\n",
        "\n",
        "# using append() to insert new value at end\n",
        "arr.append(4);\n",
        "\n",
        "# printing appended array\n",
        "print(\"The appended array is : \", end=\"\")\n",
        "for i in range (0, 4):\n",
        "\tprint (arr[i], end=\" \")\n",
        "\t\n",
        "# using insert() to insert value at specific position\n",
        "# inserts 5 at 2nd position\n",
        "arr.insert(2, 5)\n",
        "\n",
        "print(\"\\r\")\n",
        "\n",
        "# printing array after insertion\n",
        "print (\"The array after insertion is : \", end=\"\")\n",
        "for i in range (0, 5):\n",
        "\tprint (arr[i], end=\" \")\n"
      ]
    },
    {
      "cell_type": "code",
      "source": [
        "# Python code to demonstrate the working of\n",
        "# index() and reverse()\n",
        "\n",
        "# importing \"array\" for array operations\n",
        "import array\n",
        "\n",
        "# initializing array with array values\n",
        "# initializes array with signed integers\n",
        "arr= array.array('i',[1, 2, 3, 1, 2, 5])\n",
        "\n",
        "# printing original array\n",
        "print (\"The new created array is : \",end=\"\")\n",
        "for i in range (0,6):\n",
        "\tprint (arr[i],end=\" \")\n",
        "\n",
        "print (\"\\r\")\n",
        "\n",
        "# using index() to print index of 1st occurrence of 2\n",
        "print (\"The index of 1st occurrence of 2 is : \",end=\"\")\n",
        "print (arr.index(2))\n",
        "\n",
        "#using reverse() to reverse the array\n",
        "arr.reverse()\n",
        "\n",
        "# printing array after reversing\n",
        "print (\"The array after reversing is : \",end=\"\")\n",
        "for i in range (0,6):\n",
        "\tprint (arr[i],end=\" \")\n"
      ],
      "metadata": {
        "colab": {
          "base_uri": "https://localhost:8080/"
        },
        "id": "JOoQbzx8YQkr",
        "outputId": "e328badd-da27-4b8d-99c1-b9f5e7de93c4"
      },
      "execution_count": 2,
      "outputs": [
        {
          "output_type": "stream",
          "name": "stdout",
          "text": [
            "The new created array is : 1 2 3 1 2 5 \r\n",
            "The index of 1st occurrence of 2 is : 1\n",
            "The array after reversing is : 5 2 1 3 2 1 "
          ]
        }
      ]
    }
  ]
}